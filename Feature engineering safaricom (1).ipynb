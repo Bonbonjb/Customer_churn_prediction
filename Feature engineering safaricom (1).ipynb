{
 "cells": [
  {
   "cell_type": "markdown",
   "id": "789e5a7f-0713-49c8-a33e-855592b86b5a",
   "metadata": {},
   "source": [
    "FEATURE ENGINEERING FOR SAFARICOM CHURN PREDICTION"
   ]
  },
  {
   "cell_type": "code",
   "execution_count": 4,
   "id": "d44681d8-022d-4193-a21b-dcddd3469815",
   "metadata": {},
   "outputs": [
    {
     "data": {
      "text/html": [
       "<div>\n",
       "<style scoped>\n",
       "    .dataframe tbody tr th:only-of-type {\n",
       "        vertical-align: middle;\n",
       "    }\n",
       "\n",
       "    .dataframe tbody tr th {\n",
       "        vertical-align: top;\n",
       "    }\n",
       "\n",
       "    .dataframe thead th {\n",
       "        text-align: right;\n",
       "    }\n",
       "</style>\n",
       "<table border=\"1\" class=\"dataframe\">\n",
       "  <thead>\n",
       "    <tr style=\"text-align: right;\">\n",
       "      <th></th>\n",
       "      <th>Customer ID</th>\n",
       "      <th>Age</th>\n",
       "      <th>Gender</th>\n",
       "      <th>Tenure (Years)</th>\n",
       "      <th>Region</th>\n",
       "      <th>Monthly Data Usage (MB)</th>\n",
       "      <th>Call Duration (Minutes)</th>\n",
       "      <th>SMS Sent</th>\n",
       "      <th>M-Pesa Transactions</th>\n",
       "      <th>Customer Service Interactions</th>\n",
       "      <th>...</th>\n",
       "      <th>Third Last Month Call Duration (Minutes)</th>\n",
       "      <th>Last Month SMS Sent</th>\n",
       "      <th>Second Last Month SMS Sent</th>\n",
       "      <th>Third Last Month SMS Sent</th>\n",
       "      <th>Promotions</th>\n",
       "      <th>Payment Method</th>\n",
       "      <th>Data Rate per MB</th>\n",
       "      <th>Call Rate per Minute</th>\n",
       "      <th>SMS Rate per Message</th>\n",
       "      <th>Churn History</th>\n",
       "    </tr>\n",
       "  </thead>\n",
       "  <tbody>\n",
       "    <tr>\n",
       "      <th>0</th>\n",
       "      <td>CUST0001</td>\n",
       "      <td>56</td>\n",
       "      <td>Male</td>\n",
       "      <td>2</td>\n",
       "      <td>Mombasa</td>\n",
       "      <td>6768</td>\n",
       "      <td>434</td>\n",
       "      <td>107</td>\n",
       "      <td>35</td>\n",
       "      <td>9</td>\n",
       "      <td>...</td>\n",
       "      <td>440</td>\n",
       "      <td>37</td>\n",
       "      <td>335</td>\n",
       "      <td>92</td>\n",
       "      <td>1</td>\n",
       "      <td>Credit Card</td>\n",
       "      <td>0.05</td>\n",
       "      <td>0.02</td>\n",
       "      <td>0.01</td>\n",
       "      <td>1</td>\n",
       "    </tr>\n",
       "    <tr>\n",
       "      <th>1</th>\n",
       "      <td>CUST0002</td>\n",
       "      <td>69</td>\n",
       "      <td>Male</td>\n",
       "      <td>10</td>\n",
       "      <td>Mombasa</td>\n",
       "      <td>1410</td>\n",
       "      <td>383</td>\n",
       "      <td>331</td>\n",
       "      <td>17</td>\n",
       "      <td>8</td>\n",
       "      <td>...</td>\n",
       "      <td>946</td>\n",
       "      <td>42</td>\n",
       "      <td>145</td>\n",
       "      <td>459</td>\n",
       "      <td>5</td>\n",
       "      <td>Credit Card</td>\n",
       "      <td>0.05</td>\n",
       "      <td>0.02</td>\n",
       "      <td>0.01</td>\n",
       "      <td>0</td>\n",
       "    </tr>\n",
       "    <tr>\n",
       "      <th>2</th>\n",
       "      <td>CUST0003</td>\n",
       "      <td>46</td>\n",
       "      <td>Female</td>\n",
       "      <td>9</td>\n",
       "      <td>Nakuru</td>\n",
       "      <td>4840</td>\n",
       "      <td>559</td>\n",
       "      <td>422</td>\n",
       "      <td>89</td>\n",
       "      <td>9</td>\n",
       "      <td>...</td>\n",
       "      <td>780</td>\n",
       "      <td>116</td>\n",
       "      <td>309</td>\n",
       "      <td>64</td>\n",
       "      <td>1</td>\n",
       "      <td>Debit Card</td>\n",
       "      <td>0.05</td>\n",
       "      <td>0.02</td>\n",
       "      <td>0.01</td>\n",
       "      <td>0</td>\n",
       "    </tr>\n",
       "    <tr>\n",
       "      <th>3</th>\n",
       "      <td>CUST0004</td>\n",
       "      <td>32</td>\n",
       "      <td>Female</td>\n",
       "      <td>8</td>\n",
       "      <td>Nakuru</td>\n",
       "      <td>4509</td>\n",
       "      <td>193</td>\n",
       "      <td>89</td>\n",
       "      <td>180</td>\n",
       "      <td>9</td>\n",
       "      <td>...</td>\n",
       "      <td>895</td>\n",
       "      <td>404</td>\n",
       "      <td>126</td>\n",
       "      <td>320</td>\n",
       "      <td>4</td>\n",
       "      <td>Mobile Money</td>\n",
       "      <td>0.05</td>\n",
       "      <td>0.02</td>\n",
       "      <td>0.01</td>\n",
       "      <td>0</td>\n",
       "    </tr>\n",
       "    <tr>\n",
       "      <th>4</th>\n",
       "      <td>CUST0005</td>\n",
       "      <td>60</td>\n",
       "      <td>Female</td>\n",
       "      <td>9</td>\n",
       "      <td>Nairobi</td>\n",
       "      <td>7128</td>\n",
       "      <td>735</td>\n",
       "      <td>204</td>\n",
       "      <td>198</td>\n",
       "      <td>0</td>\n",
       "      <td>...</td>\n",
       "      <td>919</td>\n",
       "      <td>474</td>\n",
       "      <td>174</td>\n",
       "      <td>9</td>\n",
       "      <td>5</td>\n",
       "      <td>Mobile Money</td>\n",
       "      <td>0.05</td>\n",
       "      <td>0.02</td>\n",
       "      <td>0.01</td>\n",
       "      <td>0</td>\n",
       "    </tr>\n",
       "  </tbody>\n",
       "</table>\n",
       "<p>5 rows × 27 columns</p>\n",
       "</div>"
      ],
      "text/plain": [
       "  Customer ID  Age  Gender  Tenure (Years)   Region  Monthly Data Usage (MB)  \\\n",
       "0    CUST0001   56    Male               2  Mombasa                     6768   \n",
       "1    CUST0002   69    Male              10  Mombasa                     1410   \n",
       "2    CUST0003   46  Female               9   Nakuru                     4840   \n",
       "3    CUST0004   32  Female               8   Nakuru                     4509   \n",
       "4    CUST0005   60  Female               9  Nairobi                     7128   \n",
       "\n",
       "   Call Duration (Minutes)  SMS Sent  M-Pesa Transactions  \\\n",
       "0                      434       107                   35   \n",
       "1                      383       331                   17   \n",
       "2                      559       422                   89   \n",
       "3                      193        89                  180   \n",
       "4                      735       204                  198   \n",
       "\n",
       "   Customer Service Interactions  ...  \\\n",
       "0                              9  ...   \n",
       "1                              8  ...   \n",
       "2                              9  ...   \n",
       "3                              9  ...   \n",
       "4                              0  ...   \n",
       "\n",
       "  Third Last Month Call Duration (Minutes)  Last Month SMS Sent  \\\n",
       "0                                      440                   37   \n",
       "1                                      946                   42   \n",
       "2                                      780                  116   \n",
       "3                                      895                  404   \n",
       "4                                      919                  474   \n",
       "\n",
       "   Second Last Month SMS Sent  Third Last Month SMS Sent  Promotions  \\\n",
       "0                         335                         92           1   \n",
       "1                         145                        459           5   \n",
       "2                         309                         64           1   \n",
       "3                         126                        320           4   \n",
       "4                         174                          9           5   \n",
       "\n",
       "   Payment Method  Data Rate per MB  Call Rate per Minute  \\\n",
       "0     Credit Card              0.05                  0.02   \n",
       "1     Credit Card              0.05                  0.02   \n",
       "2      Debit Card              0.05                  0.02   \n",
       "3    Mobile Money              0.05                  0.02   \n",
       "4    Mobile Money              0.05                  0.02   \n",
       "\n",
       "   SMS Rate per Message  Churn History  \n",
       "0                  0.01              1  \n",
       "1                  0.01              0  \n",
       "2                  0.01              0  \n",
       "3                  0.01              0  \n",
       "4                  0.01              0  \n",
       "\n",
       "[5 rows x 27 columns]"
      ]
     },
     "execution_count": 4,
     "metadata": {},
     "output_type": "execute_result"
    }
   ],
   "source": [
    "import pandas as pd\n",
    "\n",
    "# Load the dataset\n",
    "safaricom_data = pd.read_csv('safaricom_churn_data.csv')  \n",
    "\n",
    "safaricom_data.head()"
   ]
  },
  {
   "cell_type": "markdown",
   "id": "2584e4f8-cb90-4d20-9a6e-8bea43f70fc4",
   "metadata": {},
   "source": [
    "Features Added"
   ]
  },
  {
   "cell_type": "markdown",
   "id": "21c8e98d-9ad6-45bc-9eb1-2e32f84c288d",
   "metadata": {},
   "source": [
    "1. Egagement Score"
   ]
  },
  {
   "cell_type": "code",
   "execution_count": 7,
   "id": "174631c6-0a36-49b2-b0a3-dcb4686ab408",
   "metadata": {},
   "outputs": [
    {
     "name": "stdout",
     "output_type": "stream",
     "text": [
      "   Engagement Score  Churn Indicator\n",
      "0              7344                0\n",
      "1              2141                0\n",
      "2              5910                0\n",
      "3              4971                0\n",
      "4              8265                0\n"
     ]
    }
   ],
   "source": [
    "# Create an engagement score\n",
    "safaricom_data['Engagement Score'] = (safaricom_data['Monthly Data Usage (MB)'] + \n",
    "                             safaricom_data['Call Duration (Minutes)'] + \n",
    "                             safaricom_data['SMS Sent'] + \n",
    "                             safaricom_data['M-Pesa Transactions'])\n",
    "\n",
    "# Check the new feature\n",
    "print(safaricom_data[['Engagement Score', 'Churn Indicator']].head())"
   ]
  },
  {
   "cell_type": "markdown",
   "id": "fc062a48-b2ac-406c-bb42-d61ddffc2291",
   "metadata": {},
   "source": [
    "2. Average Monthly Usage"
   ]
  },
  {
   "cell_type": "code",
   "execution_count": 9,
   "id": "d8253374-5a96-401e-9ed1-85c10ca6125b",
   "metadata": {},
   "outputs": [],
   "source": [
    "# Average Monthly Data Usage over the last three months\n",
    "safaricom_data['Avg Monthly Data Usage (MB)'] = (\n",
    "    safaricom_data['Last Month Data Usage (MB)'] +\n",
    "    safaricom_data['Second Last Month Data Usage (MB)'] +\n",
    "    safaricom_data['Third Last Month Data Usage (MB)']\n",
    ") / 3\n",
    "\n",
    "# Average Call Duration over the last three months\n",
    "safaricom_data['Avg Call Duration (Minutes)'] = (\n",
    "    safaricom_data['Last Month Call Duration (Minutes)'] +\n",
    "    safaricom_data['Second Last Month Call Duration (Minutes)'] +\n",
    "    safaricom_data['Third Last Month Call Duration (Minutes)']\n",
    ") / 3\n",
    "\n",
    "# Average SMS Sent over the last three months\n",
    "safaricom_data['Avg SMS Sent'] = (\n",
    "    safaricom_data['Last Month SMS Sent'] +\n",
    "    safaricom_data['Second Last Month SMS Sent'] +\n",
    "    safaricom_data['Third Last Month SMS Sent']\n",
    ") / 3"
   ]
  },
  {
   "cell_type": "code",
   "execution_count": 10,
   "id": "f792d31d-69b3-42c4-9343-4c114e30e805",
   "metadata": {},
   "outputs": [
    {
     "data": {
      "text/plain": [
       "0      1.07\n",
       "1      3.31\n",
       "2      4.22\n",
       "3      0.89\n",
       "4      2.04\n",
       "       ... \n",
       "995    2.77\n",
       "996    2.02\n",
       "997    0.65\n",
       "998    1.07\n",
       "999    2.67\n",
       "Length: 1000, dtype: float64"
      ]
     },
     "execution_count": 10,
     "metadata": {},
     "output_type": "execute_result"
    }
   ],
   "source": [
    "safaricom_data['Monthly Spend'] = (safaricom_data['Monthly Data Usage (MB)'] * safaricom_data['Data Rate per MB'])\n",
    "+ (safaricom_data['Call Duration (Minutes)'] * safaricom_data['Call Rate per Minute']) \n",
    "+ (safaricom_data['SMS Sent'] * safaricom_data['SMS Rate per Message'])"
   ]
  },
  {
   "cell_type": "markdown",
   "id": "1251eb5a-e12f-41a6-afec-1a58bb1a9691",
   "metadata": {},
   "source": [
    "3. Churn History"
   ]
  },
  {
   "cell_type": "code",
   "execution_count": 12,
   "id": "0cbb992c-1ae8-4921-b524-40696faff2a7",
   "metadata": {},
   "outputs": [
    {
     "data": {
      "text/plain": [
       "0      1\n",
       "1      0\n",
       "2      0\n",
       "3      0\n",
       "4      0\n",
       "      ..\n",
       "995    0\n",
       "996    0\n",
       "997    0\n",
       "998    1\n",
       "999    0\n",
       "Name: Previous Churn, Length: 1000, dtype: int64"
      ]
     },
     "execution_count": 12,
     "metadata": {},
     "output_type": "execute_result"
    }
   ],
   "source": [
    "safaricom_data['Previous Churn'] = safaricom_data['Churn History'].apply(lambda x: 1 if x > 0 else 0)  # Assuming 'Churn History' is the number of times they have churned\n",
    "safaricom_data['Previous Churn'] "
   ]
  },
  {
   "cell_type": "markdown",
   "id": "79391192-1057-4ad8-a8cf-93b28a870ebc",
   "metadata": {},
   "source": [
    "4. Churn Probability"
   ]
  },
  {
   "cell_type": "code",
   "execution_count": 14,
   "id": "c5615646-5e3c-4db9-884d-10195a735dea",
   "metadata": {},
   "outputs": [],
   "source": [
    "# Churn Probability: This can be based on historical churn behavior\n",
    "safaricom_data['Churn Probability'] = (\n",
    "    safaricom_data['Churn Indicator'] +\n",
    "    safaricom_data['Churn History']\n",
    ") / 2"
   ]
  },
  {
   "cell_type": "markdown",
   "id": "0762c54a-a2e8-4014-8066-093fcb7065d7",
   "metadata": {},
   "source": [
    "5. Tenure"
   ]
  },
  {
   "cell_type": "code",
   "execution_count": 16,
   "id": "ca030171-a0e3-44e9-9314-18dc347c04dc",
   "metadata": {},
   "outputs": [],
   "source": [
    "# Tenure in Months\n",
    "safaricom_data['Tenure (Months)'] = safaricom_data['Tenure (Years)'] * 12"
   ]
  },
  {
   "cell_type": "markdown",
   "id": "7b2866ab-ae1b-4ea5-a9da-49ab01803da0",
   "metadata": {},
   "source": [
    "6. Customer Interaction Ratio"
   ]
  },
  {
   "cell_type": "code",
   "execution_count": 18,
   "id": "14d853f2-40b9-4ae8-90d2-f63295bbb65e",
   "metadata": {},
   "outputs": [
    {
     "data": {
      "text/plain": [
       "0      0.375000\n",
       "1      0.066667\n",
       "2      0.083333\n",
       "3      0.093750\n",
       "4      0.000000\n",
       "         ...   \n",
       "995    0.125000\n",
       "996    0.020833\n",
       "997    0.000000\n",
       "998    0.166667\n",
       "999    0.058333\n",
       "Name: Customer Interaction Ratio, Length: 1000, dtype: float64"
      ]
     },
     "execution_count": 18,
     "metadata": {},
     "output_type": "execute_result"
    }
   ],
   "source": [
    "# Customer Interaction Ratio\n",
    "safaricom_data['Customer Interaction Ratio'] = safaricom_data['Customer Service Interactions'] / safaricom_data['Tenure (Months)']\n",
    "safaricom_data['Customer Interaction Ratio']"
   ]
  },
  {
   "cell_type": "markdown",
   "id": "2c454a99-2b7e-4003-9a5f-55d8b9e74df7",
   "metadata": {},
   "source": [
    "7. Region and Gender Encoding"
   ]
  },
  {
   "cell_type": "code",
   "execution_count": 20,
   "id": "6b1b18e9-5654-439f-b273-56708062083e",
   "metadata": {},
   "outputs": [],
   "source": [
    "# Region Encoding\n",
    "safaricom_data['Region Encoding'] = safaricom_data['Region'].astype('category').cat.codes\n",
    "\n",
    "# Gender Encoding\n",
    "safaricom_data['Gender Encoding'] = safaricom_data['Gender'].map({'Male': 1, 'Female': 0})"
   ]
  },
  {
   "cell_type": "markdown",
   "id": "8203e314-45ff-4e4d-84a0-d63d68ac9fb3",
   "metadata": {},
   "source": [
    "8. Promotions received"
   ]
  },
  {
   "cell_type": "code",
   "execution_count": 22,
   "id": "049db666-264a-4c56-b111-317a7b368dfb",
   "metadata": {},
   "outputs": [],
   "source": [
    "safaricom_data['Promotions Received'] = safaricom_data['Promotions'].apply(lambda x: 1 if x > 0 else 0)  "
   ]
  },
  {
   "cell_type": "markdown",
   "id": "caf597c9-0215-4884-b17b-b8fd7e7ba920",
   "metadata": {},
   "source": [
    "9.  Region-Based Features"
   ]
  },
  {
   "cell_type": "code",
   "execution_count": 24,
   "id": "306e96df-4a3a-494d-b739-4ccca1ffabf9",
   "metadata": {},
   "outputs": [
    {
     "data": {
      "text/plain": [
       "0      0\n",
       "1      0\n",
       "2      0\n",
       "3      0\n",
       "4      0\n",
       "      ..\n",
       "995    0\n",
       "996    0\n",
       "997    0\n",
       "998    0\n",
       "999    0\n",
       "Name: High Churn Region, Length: 1000, dtype: int64"
      ]
     },
     "execution_count": 24,
     "metadata": {},
     "output_type": "execute_result"
    }
   ],
   "source": [
    "# Example: Create a binary feature indicating if the customer is from a high churn region\n",
    "high_churn_regions = ['RegionA', 'RegionB']  # Define high churn regions\n",
    "safaricom_data['High Churn Region'] = safaricom_data['Region'].apply(lambda x: 1 if x in high_churn_regions else 0)\n",
    "safaricom_data['High Churn Region']"
   ]
  },
  {
   "cell_type": "code",
   "execution_count": 25,
   "id": "64659e35-59b6-4a80-a77e-bed8f7d2b67f",
   "metadata": {},
   "outputs": [],
   "source": [
    "# Save the updated dataset\n",
    "safaricom_data.to_csv('safaricom_data_engineered.csv', index=False)"
   ]
  },
  {
   "cell_type": "code",
   "execution_count": 26,
   "id": "9013b202-3783-4e76-a2fd-8ce273a5ed66",
   "metadata": {},
   "outputs": [],
   "source": [
    "safaricom_engineered = pd.read_csv('safaricom_data_engineered.csv')  "
   ]
  },
  {
   "cell_type": "code",
   "execution_count": 27,
   "id": "03977b97-0bb2-4b4e-97ae-f44e71cbb407",
   "metadata": {},
   "outputs": [
    {
     "data": {
      "text/html": [
       "<div>\n",
       "<style scoped>\n",
       "    .dataframe tbody tr th:only-of-type {\n",
       "        vertical-align: middle;\n",
       "    }\n",
       "\n",
       "    .dataframe tbody tr th {\n",
       "        vertical-align: top;\n",
       "    }\n",
       "\n",
       "    .dataframe thead th {\n",
       "        text-align: right;\n",
       "    }\n",
       "</style>\n",
       "<table border=\"1\" class=\"dataframe\">\n",
       "  <thead>\n",
       "    <tr style=\"text-align: right;\">\n",
       "      <th></th>\n",
       "      <th>Customer ID</th>\n",
       "      <th>Age</th>\n",
       "      <th>Gender</th>\n",
       "      <th>Tenure (Years)</th>\n",
       "      <th>Region</th>\n",
       "      <th>Monthly Data Usage (MB)</th>\n",
       "      <th>Call Duration (Minutes)</th>\n",
       "      <th>SMS Sent</th>\n",
       "      <th>M-Pesa Transactions</th>\n",
       "      <th>Customer Service Interactions</th>\n",
       "      <th>...</th>\n",
       "      <th>Avg SMS Sent</th>\n",
       "      <th>Monthly Spend</th>\n",
       "      <th>Previous Churn</th>\n",
       "      <th>Churn Probability</th>\n",
       "      <th>Tenure (Months)</th>\n",
       "      <th>Customer Interaction Ratio</th>\n",
       "      <th>Region Encoding</th>\n",
       "      <th>Gender Encoding</th>\n",
       "      <th>Promotions Received</th>\n",
       "      <th>High Churn Region</th>\n",
       "    </tr>\n",
       "  </thead>\n",
       "  <tbody>\n",
       "    <tr>\n",
       "      <th>0</th>\n",
       "      <td>CUST0001</td>\n",
       "      <td>56</td>\n",
       "      <td>Male</td>\n",
       "      <td>2</td>\n",
       "      <td>Mombasa</td>\n",
       "      <td>6768</td>\n",
       "      <td>434</td>\n",
       "      <td>107</td>\n",
       "      <td>35</td>\n",
       "      <td>9</td>\n",
       "      <td>...</td>\n",
       "      <td>154.666667</td>\n",
       "      <td>338.40</td>\n",
       "      <td>1</td>\n",
       "      <td>0.5</td>\n",
       "      <td>24</td>\n",
       "      <td>0.375000</td>\n",
       "      <td>1</td>\n",
       "      <td>1</td>\n",
       "      <td>1</td>\n",
       "      <td>0</td>\n",
       "    </tr>\n",
       "    <tr>\n",
       "      <th>1</th>\n",
       "      <td>CUST0002</td>\n",
       "      <td>69</td>\n",
       "      <td>Male</td>\n",
       "      <td>10</td>\n",
       "      <td>Mombasa</td>\n",
       "      <td>1410</td>\n",
       "      <td>383</td>\n",
       "      <td>331</td>\n",
       "      <td>17</td>\n",
       "      <td>8</td>\n",
       "      <td>...</td>\n",
       "      <td>215.333333</td>\n",
       "      <td>70.50</td>\n",
       "      <td>0</td>\n",
       "      <td>0.0</td>\n",
       "      <td>120</td>\n",
       "      <td>0.066667</td>\n",
       "      <td>1</td>\n",
       "      <td>1</td>\n",
       "      <td>1</td>\n",
       "      <td>0</td>\n",
       "    </tr>\n",
       "    <tr>\n",
       "      <th>2</th>\n",
       "      <td>CUST0003</td>\n",
       "      <td>46</td>\n",
       "      <td>Female</td>\n",
       "      <td>9</td>\n",
       "      <td>Nakuru</td>\n",
       "      <td>4840</td>\n",
       "      <td>559</td>\n",
       "      <td>422</td>\n",
       "      <td>89</td>\n",
       "      <td>9</td>\n",
       "      <td>...</td>\n",
       "      <td>163.000000</td>\n",
       "      <td>242.00</td>\n",
       "      <td>0</td>\n",
       "      <td>0.0</td>\n",
       "      <td>108</td>\n",
       "      <td>0.083333</td>\n",
       "      <td>3</td>\n",
       "      <td>0</td>\n",
       "      <td>1</td>\n",
       "      <td>0</td>\n",
       "    </tr>\n",
       "    <tr>\n",
       "      <th>3</th>\n",
       "      <td>CUST0004</td>\n",
       "      <td>32</td>\n",
       "      <td>Female</td>\n",
       "      <td>8</td>\n",
       "      <td>Nakuru</td>\n",
       "      <td>4509</td>\n",
       "      <td>193</td>\n",
       "      <td>89</td>\n",
       "      <td>180</td>\n",
       "      <td>9</td>\n",
       "      <td>...</td>\n",
       "      <td>283.333333</td>\n",
       "      <td>225.45</td>\n",
       "      <td>0</td>\n",
       "      <td>0.0</td>\n",
       "      <td>96</td>\n",
       "      <td>0.093750</td>\n",
       "      <td>3</td>\n",
       "      <td>0</td>\n",
       "      <td>1</td>\n",
       "      <td>0</td>\n",
       "    </tr>\n",
       "    <tr>\n",
       "      <th>4</th>\n",
       "      <td>CUST0005</td>\n",
       "      <td>60</td>\n",
       "      <td>Female</td>\n",
       "      <td>9</td>\n",
       "      <td>Nairobi</td>\n",
       "      <td>7128</td>\n",
       "      <td>735</td>\n",
       "      <td>204</td>\n",
       "      <td>198</td>\n",
       "      <td>0</td>\n",
       "      <td>...</td>\n",
       "      <td>219.000000</td>\n",
       "      <td>356.40</td>\n",
       "      <td>0</td>\n",
       "      <td>0.0</td>\n",
       "      <td>108</td>\n",
       "      <td>0.000000</td>\n",
       "      <td>2</td>\n",
       "      <td>0</td>\n",
       "      <td>1</td>\n",
       "      <td>0</td>\n",
       "    </tr>\n",
       "  </tbody>\n",
       "</table>\n",
       "<p>5 rows × 40 columns</p>\n",
       "</div>"
      ],
      "text/plain": [
       "  Customer ID  Age  Gender  Tenure (Years)   Region  Monthly Data Usage (MB)  \\\n",
       "0    CUST0001   56    Male               2  Mombasa                     6768   \n",
       "1    CUST0002   69    Male              10  Mombasa                     1410   \n",
       "2    CUST0003   46  Female               9   Nakuru                     4840   \n",
       "3    CUST0004   32  Female               8   Nakuru                     4509   \n",
       "4    CUST0005   60  Female               9  Nairobi                     7128   \n",
       "\n",
       "   Call Duration (Minutes)  SMS Sent  M-Pesa Transactions  \\\n",
       "0                      434       107                   35   \n",
       "1                      383       331                   17   \n",
       "2                      559       422                   89   \n",
       "3                      193        89                  180   \n",
       "4                      735       204                  198   \n",
       "\n",
       "   Customer Service Interactions  ... Avg SMS Sent  Monthly Spend  \\\n",
       "0                              9  ...   154.666667         338.40   \n",
       "1                              8  ...   215.333333          70.50   \n",
       "2                              9  ...   163.000000         242.00   \n",
       "3                              9  ...   283.333333         225.45   \n",
       "4                              0  ...   219.000000         356.40   \n",
       "\n",
       "   Previous Churn  Churn Probability  Tenure (Months)  \\\n",
       "0               1                0.5               24   \n",
       "1               0                0.0              120   \n",
       "2               0                0.0              108   \n",
       "3               0                0.0               96   \n",
       "4               0                0.0              108   \n",
       "\n",
       "   Customer Interaction Ratio  Region Encoding  Gender Encoding  \\\n",
       "0                    0.375000                1                1   \n",
       "1                    0.066667                1                1   \n",
       "2                    0.083333                3                0   \n",
       "3                    0.093750                3                0   \n",
       "4                    0.000000                2                0   \n",
       "\n",
       "   Promotions Received  High Churn Region  \n",
       "0                    1                  0  \n",
       "1                    1                  0  \n",
       "2                    1                  0  \n",
       "3                    1                  0  \n",
       "4                    1                  0  \n",
       "\n",
       "[5 rows x 40 columns]"
      ]
     },
     "execution_count": 27,
     "metadata": {},
     "output_type": "execute_result"
    }
   ],
   "source": [
    "safaricom_engineered.head()"
   ]
  },
  {
   "cell_type": "code",
   "execution_count": null,
   "id": "e933d9e0-1081-416c-91cf-9d4dce30682b",
   "metadata": {},
   "outputs": [],
   "source": []
  }
 ],
 "metadata": {
  "kernelspec": {
   "display_name": "Python 3 (ipykernel)",
   "language": "python",
   "name": "python3"
  },
  "language_info": {
   "codemirror_mode": {
    "name": "ipython",
    "version": 3
   },
   "file_extension": ".py",
   "mimetype": "text/x-python",
   "name": "python",
   "nbconvert_exporter": "python",
   "pygments_lexer": "ipython3",
   "version": "3.12.4"
  }
 },
 "nbformat": 4,
 "nbformat_minor": 5
}
